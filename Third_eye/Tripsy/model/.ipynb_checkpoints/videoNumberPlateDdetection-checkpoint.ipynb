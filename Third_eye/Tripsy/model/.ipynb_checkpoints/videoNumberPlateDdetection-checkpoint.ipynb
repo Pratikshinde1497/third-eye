{
 "cells": [
  {
   "cell_type": "code",
   "execution_count": 6,
   "metadata": {},
   "outputs": [
    {
     "name": "stdout",
     "output_type": "stream",
     "text": [
      "1570 833 202 68\n",
      "1311 388 135 45\n",
      "1240 280 135 45\n",
      "1191 190 135 45\n",
      "1140 114 135 45\n",
      "1102 46 135 45\n",
      "1299 486 202 68\n",
      "852 268 135 45\n",
      "1598 129 135 45\n",
      "1575 100 135 45\n",
      "1558 76 135 45\n",
      "1542 53 135 45\n",
      "1529 35 135 45\n",
      "1519 17 135 45\n",
      "748 963 304 101\n",
      "813 993 202 68\n",
      "706 757 304 101\n",
      "759 614 202 68\n",
      "1268 207 135 45\n",
      "742 479 202 68\n",
      "1029 256 135 45\n",
      "719 366 202 68\n",
      "761 384 135 45\n",
      "752 285 135 45\n",
      "705 268 202 68\n",
      "686 185 202 68\n",
      "736 203 135 45\n",
      "677 112 202 68\n",
      "718 131 135 45\n",
      "716 69 135 45\n",
      "179 597 135 45\n",
      "824 745 135 45\n",
      "806 585 135 45\n",
      "783 454 135 45\n",
      "712 502 135 45\n"
     ]
    },
    {
     "ename": "KeyboardInterrupt",
     "evalue": "",
     "output_type": "error",
     "traceback": [
      "\u001b[1;31m---------------------------------------------------------------------------\u001b[0m",
      "\u001b[1;31mKeyboardInterrupt\u001b[0m                         Traceback (most recent call last)",
      "\u001b[1;32m<ipython-input-6-f3f4a34c8563>\u001b[0m in \u001b[0;36m<module>\u001b[1;34m\u001b[0m\n\u001b[0;32m     17\u001b[0m             \u001b[0mgray_frame\u001b[0m\u001b[1;33m=\u001b[0m\u001b[0mcv2\u001b[0m\u001b[1;33m.\u001b[0m\u001b[0mcvtColor\u001b[0m\u001b[1;33m(\u001b[0m\u001b[0mframe\u001b[0m\u001b[1;33m,\u001b[0m \u001b[0mcv2\u001b[0m\u001b[1;33m.\u001b[0m\u001b[0mCOLOR_BGR2GRAY\u001b[0m\u001b[1;33m)\u001b[0m\u001b[1;33m\u001b[0m\u001b[1;33m\u001b[0m\u001b[0m\n\u001b[0;32m     18\u001b[0m             \u001b[1;31m# cv2.imshow('color Frame', frame)\u001b[0m\u001b[1;33m\u001b[0m\u001b[1;33m\u001b[0m\u001b[1;33m\u001b[0m\u001b[0m\n\u001b[1;32m---> 19\u001b[1;33m             \u001b[0mplates\u001b[0m\u001b[1;33m=\u001b[0m \u001b[0mplate_cascade\u001b[0m\u001b[1;33m.\u001b[0m\u001b[0mdetectMultiScale\u001b[0m\u001b[1;33m(\u001b[0m\u001b[0mgray_frame\u001b[0m\u001b[1;33m,\u001b[0m \u001b[0mscaleFactor\u001b[0m\u001b[1;33m=\u001b[0m \u001b[1;36m1.5\u001b[0m\u001b[1;33m,\u001b[0m \u001b[0mminNeighbors\u001b[0m\u001b[1;33m=\u001b[0m\u001b[1;36m5\u001b[0m\u001b[1;33m)\u001b[0m\u001b[1;33m\u001b[0m\u001b[1;33m\u001b[0m\u001b[0m\n\u001b[0m\u001b[0;32m     20\u001b[0m \u001b[1;33m\u001b[0m\u001b[0m\n\u001b[0;32m     21\u001b[0m \u001b[1;33m\u001b[0m\u001b[0m\n",
      "\u001b[1;31mKeyboardInterrupt\u001b[0m: "
     ]
    }
   ],
   "source": [
    "import cv2, numpy as np\n",
    "import time\n",
    "\n",
    "\n",
    "plate_cascade= cv2.CascadeClassifier('cascades/data/haarcascade_russian_plate_number.xml')\n",
    "\n",
    "\n",
    "cap = cv2.VideoCapture(\"video7.avi\")\n",
    "\n",
    "# cap = cv2.VideoCapture(0)\n",
    "\n",
    "count = 0\n",
    "if cap.isOpened():\n",
    "    while True:\n",
    "        check, frame = cap.read()\n",
    "        if check:\n",
    "            gray_frame=cv2.cvtColor(frame, cv2.COLOR_BGR2GRAY)\n",
    "            # cv2.imshow('color Frame', frame)\n",
    "            plates= plate_cascade.detectMultiScale(gray_frame, scaleFactor= 1.5, minNeighbors=5)\n",
    "           \n",
    "            \n",
    "            for (x,y, w, h) in plates:\n",
    "                print(x, y, w, h)\n",
    "                region_of_interest_gray= gray_frame[y: y+h, x: x+w]\n",
    "                rect_color=(255, 0, 0)\n",
    "                stroke=2\n",
    "                cv2.rectangle(frame, (x, y), ( x+w , y+h ), rect_color, stroke )   #param: frame, co-ordinates, Height- width , color of rect. , Stroke\n",
    "\n",
    "                    \n",
    "                count=count+1\n",
    "                region_image= 'platesOutput/my_image'+str(count)+'.png'\n",
    "                # time.sleep(1)\n",
    "                cv2.imshow(\"plates\", region_of_interest_gray)\n",
    "                cv2.imwrite(region_image, region_of_interest_gray)\n",
    "                cv2.imshow(\"Tkinter and OpenCV\", frame)\n",
    "            key = cv2.waitKey(50)\n",
    "\n",
    "            if key == ord('q'):\n",
    "                break\n",
    "        else:\n",
    "            print('Frame not available')\n",
    "            print(cap.isOpened())\n",
    "\n",
    "cap.release()\n",
    "cv2.destroyAllWindows()\n"
   ]
  }
 ],
 "metadata": {
  "kernelspec": {
   "display_name": "Python 3",
   "language": "python",
   "name": "python3"
  },
  "language_info": {
   "codemirror_mode": {
    "name": "ipython",
    "version": 3
   },
   "file_extension": ".py",
   "mimetype": "text/x-python",
   "name": "python",
   "nbconvert_exporter": "python",
   "pygments_lexer": "ipython3",
   "version": "3.6.8"
  }
 },
 "nbformat": 4,
 "nbformat_minor": 2
}
