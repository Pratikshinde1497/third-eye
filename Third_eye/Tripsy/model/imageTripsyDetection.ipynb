{
 "cells": [
  {
   "cell_type": "code",
   "execution_count": 83,
   "metadata": {},
   "outputs": [],
   "source": [
    "from imageai.Detection import ObjectDetection\n",
    "import os\n",
    "import matplotlib.pyplot as plt\n",
    "import cv2\n",
    "import numpy as np\n",
    "from PIL import *\n",
    "import PIL\n",
    "\n",
    "class Model:\n",
    "    def __init__(self):\n",
    "        self.execution_path = os.getcwd()\n",
    "        self.detector = ObjectDetection()\n",
    "        self.detector.setModelTypeAsYOLOv3()\n",
    "        self.detector.setModelPath( os.path.join(self.execution_path , \"yolo.h5\"))\n",
    "        self.detector.loadModel()\n",
    "        print(\"Model Loaded SuccessFully!\")\n",
    "\n",
    "\n",
    "\n",
    "class Detection(Model):                      #inherite the Model\n",
    "    def __init__(self):\n",
    "        Model.__init__(self)\n",
    "        \n",
    "    def provide(self, inImage, outImage):\n",
    "        self.inImage=inImage\n",
    "        self.outImage=outImage\n",
    "        custom_objects = self.detector.CustomObjects(person=True, motorcycle=True)\n",
    "        self.returned_image, self.detections, self.extracted_objects = self.detector.detectCustomObjectsFromImage(output_type=\"array\", extract_detected_objects=True,input_image=os.path.join(self.execution_path, self.inImage), output_image_path=os.path.join(self.execution_path , self.outImage), custom_objects=custom_objects, minimum_percentage_probability=65)\n",
    "        #, output_type=\"array\", extract_detected_objects=True\n",
    "        print(\"done, Continue!!\")\n",
    "    \n",
    "    def displayDetects(self):\n",
    "        # print the output image first\n",
    "        plt.imshow(self.returned_image)\n",
    "        plt.show()\n",
    "        print(\"--------------------------------\")\n",
    "        #  second is the classes which are detected\n",
    "        # print(detections)\n",
    "        for eachObject in self.detections:\n",
    "           print(eachObject['name'] ,\":\", eachObject['percentage_probability'],\":\", eachObject['box_points'])\n",
    "           print(\"--------------------------------\")\n",
    "        # third extracted images from the classes  \n",
    "        for eachExtract in self.extracted_objects:\n",
    "           plt.imshow(eachExtract)\n",
    "           plt.show()\n",
    "        #    print(eachExtract['box_points'])\n",
    "           print(\"--------------------------------\")\n",
    "    \n",
    "    def detectPeopleOnBike(self):\n",
    "        self.index=-1\n",
    "        len_of_detects=len(self.detections)       #length of the detected aarray\n",
    "        \n",
    "        for indx in range(len_of_detects):\n",
    "            if 'motorcycle' in self.detections[indx]['name']:\n",
    "                self.index=indx\n",
    "                print(\"index of the moterbike in detections array is :\",self.index)\n",
    "        # capturing the moterbike in data with index to check with the peoples\n",
    "        \n",
    "        self.resultArray=[]                #Peoples on the bike \n",
    "\n",
    "        for i in range(len_of_detects):\n",
    "            if 'motorcycle' != self.detections[self.index]['name']:\n",
    "                pass\n",
    "            else:\n",
    "                if self.detections[i]['box_points'][0] >= self.detections[self.index]['box_points'][0] & self.detections[i]['box_points'][2]<=self.detections[self.index]['box_points'][2]:\n",
    "                    if (self.detections[i]['box_points'][0] - self.detections[self.index]['box_points'][0]) > 75 or (self.detections[i]['box_points'][3] - self.detections[self.index]['box_points'][3])<10:\n",
    "                        if (self.detections[self.index]['box_points'][3]-self.detections[i]['box_points'][3])>40:\n",
    "                            if ((self.detections[self.index]!=self.detections[i])):\n",
    "        # not considering vehicle\n",
    "                                self.resultArray.append(self.detections[i]['box_points'])\n",
    "                                print(self.detections[i])\n",
    "                                plt.imshow(self.extracted_objects[i])\n",
    "                                plt.show()\n",
    "                        else:\n",
    "                            pass\n",
    "                    else:\n",
    "                        pass\n",
    "                else:\n",
    "                    pass\n",
    "        print(\"Result Array is \",self.resultArray)\n",
    "        self.coordinates=list()\n",
    "        if len(self.resultArray)>=2:\n",
    "            print(\"Tripsy\")\n",
    "        #     print(resultArray)\n",
    "            self.resultArray.sort()\n",
    "\n",
    "        # sorting the array to get the min and max points in the images\n",
    "            items=[self.resultArray[0][0],self.resultArray[0][1],self.resultArray[len(self.resultArray)-1][2],self.resultArray[len(self.resultArray)-1][3]]\n",
    "            for item in items:\n",
    "                self.coordinates.append(item)\n",
    "        elif len(self.resultArray)==1:\n",
    "            items=[self.resultArray[0][0],self.resultArray[0][1],self.resultArray[0][2],self.resultArray[0][3]]\n",
    "            for item in items:\n",
    "                self.coordinates.append(item)\n",
    "              #Single\n",
    "        else:\n",
    "            items=[0,0,0,0]\n",
    "            for item in items:\n",
    "                self.coordinates.append(item)\n",
    "        print(\"done\")\n",
    "        print(\"coordinates of rectangle\",self.coordinates)\n",
    "        # coordinates conntain the coordinates of the rectangle which will show the    *tripsy*    is here\n",
    "\n",
    "    def displayTripsy(self):\n",
    "        I = np.asarray(PIL.Image.open(self.inImage, mode='r').convert('RGB'))\n",
    "        #Open as a array and perform the operation\n",
    "               \n",
    "        if len(self.resultArray)>=2:\n",
    "                print(\"Tripsy Found\")\n",
    "                # print(I)\n",
    "                img = cv2.rectangle(I,(self.coordinates[0],self.coordinates[1]),(self.coordinates[2],self.coordinates[3]), (0,0,255),4)\n",
    "                cv2.imshow(\"Image\",img)\n",
    "                outImg = Image.fromarray(img)\n",
    "                outImg.save(self.outImage)\n",
    "\n",
    "                cv2.waitKey(0)\n",
    "        else:\n",
    "                img = cv2.rectangle(I,(self.coordinates[0],self.coordinates[1]),(self.coordinates[2],self.coordinates[3]), (0,255,0),4)\n",
    "                cv2.imshow(\"Image\",img)\n",
    "                outImg = Image.fromarray(img)\n",
    "                outImg.save(self.outImage)\n",
    "                print(\"No Tripsy Found\")\n",
    "                cv2.waitKey(0)\n"
   ]
  },
  {
   "cell_type": "code",
   "execution_count": 84,
   "metadata": {},
   "outputs": [
    {
     "name": "stdout",
     "output_type": "stream",
     "text": [
      "Model Loaded SuccessFully!\n"
     ]
    }
   ],
   "source": [
    "m=Model()"
   ]
  },
  {
   "cell_type": "code",
   "execution_count": 85,
   "metadata": {},
   "outputs": [
    {
     "name": "stdout",
     "output_type": "stream",
     "text": [
      "Model Loaded SuccessFully!\n"
     ]
    }
   ],
   "source": [
    "d=Detection()"
   ]
  },
  {
   "cell_type": "code",
   "execution_count": 74,
   "metadata": {},
   "outputs": [
    {
     "name": "stdout",
     "output_type": "stream",
     "text": [
      "done, Continue!!\n"
     ]
    }
   ],
   "source": [
    "d.provide('trainImg.jpg', 'out0.jpg')\n"
   ]
  },
  {
   "cell_type": "code",
   "execution_count": 75,
   "metadata": {},
   "outputs": [
    {
     "name": "stdout",
     "output_type": "stream",
     "text": [
      "index of the moterbike in detections array is : 0\n",
      "{'name': 'person', 'percentage_probability': 98.67947101593018, 'box_points': (741, 103, 800, 337)}\n"
     ]
    },
    {
     "data": {
      "image/png": "[encoded data removed]",
      "text/plain": [
       "<Figure size 432x288 with 1 Axes>"
      ]
     },
     "metadata": {
      "needs_background": "light"
     },
     "output_type": "display_data"
    },
    {
     "name": "stdout",
     "output_type": "stream",
     "text": [
      "Result Array is  [(741, 103, 800, 337)]\n",
      "done\n",
      "coordinates of rectangle [741, 103, 800, 337]\n"
     ]
    }
   ],
   "source": [
    "d.detectPeopleOnBike()"
   ]
  },
  {
   "cell_type": "code",
   "execution_count": 76,
   "metadata": {},
   "outputs": [
    {
     "name": "stdout",
     "output_type": "stream",
     "text": [
      "No Tripsy Found\n"
     ]
    }
   ],
   "source": [
    "d.displayTripsy()"
   ]
  }
 ],
 "metadata": {
  "kernelspec": {
   "display_name": "Python 3",
   "language": "python",
   "name": "python3"
  },
  "language_info": {
   "codemirror_mode": {
    "name": "ipython",
    "version": 3
   },
   "file_extension": ".py",
   "mimetype": "text/x-python",
   "name": "python",
   "nbconvert_exporter": "python",
   "pygments_lexer": "ipython3",
   "version": "3.6.8"
  }
 },
 "nbformat": 4,
 "nbformat_minor": 2
}
